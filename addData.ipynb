{
 "cells": [
  {
   "cell_type": "code",
   "execution_count": null,
   "id": "ec1cff67",
   "metadata": {},
   "outputs": [],
   "source": [
    "file_path = 'shrine.csv'\n",
    "element = 'id,category,japanese-name,english-name,lat,lon,japanese-description,english-description,link,linkname,num_photos\\n'   # 追加したい内容\n",
    "\n",
    "with open(file_path, 'a', encoding='utf-8') as f:\n",
    "    f.write(element)"
   ]
  }
 ],
 "metadata": {
  "kernelspec": {
   "display_name": "base",
   "language": "python",
   "name": "python3"
  },
  "language_info": {
   "codemirror_mode": {
    "name": "ipython",
    "version": 3
   },
   "file_extension": ".py",
   "mimetype": "text/x-python",
   "name": "python",
   "nbconvert_exporter": "python",
   "pygments_lexer": "ipython3",
   "version": "3.11.7"
  }
 },
 "nbformat": 4,
 "nbformat_minor": 5
}
